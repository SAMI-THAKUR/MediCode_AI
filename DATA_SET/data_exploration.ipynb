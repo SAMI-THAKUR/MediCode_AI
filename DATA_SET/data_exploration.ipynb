{
 "cells": [
  {
   "cell_type": "code",
   "execution_count": 1,
   "id": "88d8f643-1633-4637-98b8-c972ca0387b2",
   "metadata": {
    "execution": {
     "iopub.execute_input": "2025-08-10T05:51:52.876058Z",
     "iopub.status.busy": "2025-08-10T05:51:52.875057Z",
     "iopub.status.idle": "2025-08-10T05:51:54.295036Z",
     "shell.execute_reply": "2025-08-10T05:51:54.295036Z",
     "shell.execute_reply.started": "2025-08-10T05:51:52.876058Z"
    },
    "tags": []
   },
   "outputs": [],
   "source": [
    "import polars as po"
   ]
  },
  {
   "cell_type": "code",
   "execution_count": 82,
   "id": "eb719973-8b6c-4168-9828-05942e0ed444",
   "metadata": {
    "execution": {
     "iopub.execute_input": "2025-08-10T05:59:57.109339Z",
     "iopub.status.busy": "2025-08-10T05:59:57.109339Z",
     "iopub.status.idle": "2025-08-10T05:59:57.194612Z",
     "shell.execute_reply": "2025-08-10T05:59:57.193604Z",
     "shell.execute_reply.started": "2025-08-10T05:59:57.109339Z"
    },
    "tags": []
   },
   "outputs": [],
   "source": [
    "icd_10 = po.read_json('ICd10.json')"
   ]
  },
  {
   "cell_type": "code",
   "execution_count": 86,
   "id": "21e24a1c-480d-4dc9-8b87-9de0f99490cc",
   "metadata": {
    "execution": {
     "iopub.execute_input": "2025-08-10T06:00:09.456222Z",
     "iopub.status.busy": "2025-08-10T06:00:09.455223Z",
     "iopub.status.idle": "2025-08-10T06:00:09.463738Z",
     "shell.execute_reply": "2025-08-10T06:00:09.462729Z",
     "shell.execute_reply.started": "2025-08-10T06:00:09.456222Z"
    },
    "tags": []
   },
   "outputs": [
    {
     "data": {
      "text/html": [
       "<div><style>\n",
       ".dataframe > thead > tr,\n",
       ".dataframe > tbody > tr {\n",
       "  text-align: right;\n",
       "  white-space: pre-wrap;\n",
       "}\n",
       "</style>\n",
       "<small>shape: (5, 3)</small><table border=\"1\" class=\"dataframe\"><thead><tr><th>code</th><th>disease</th><th>category</th></tr><tr><td>str</td><td>str</td><td>str</td></tr></thead><tbody><tr><td>&quot;A001&quot;</td><td>&quot;Cholera due to Vibrio cholerae…</td><td>&quot;Cholera&quot;</td></tr><tr><td>&quot;A009&quot;</td><td>&quot;Cholera, unspecified&quot;</td><td>&quot;Cholera&quot;</td></tr><tr><td>&quot;A0100&quot;</td><td>&quot;Typhoid fever, unspecified&quot;</td><td>&quot;Typhoid fever&quot;</td></tr><tr><td>&quot;A0101&quot;</td><td>&quot;Typhoid meningitis&quot;</td><td>&quot;Typhoid fever&quot;</td></tr><tr><td>&quot;A0102&quot;</td><td>&quot;Typhoid fever with heart invol…</td><td>&quot;Typhoid fever&quot;</td></tr></tbody></table></div>"
      ],
      "text/plain": [
       "shape: (5, 3)\n",
       "┌───────┬─────────────────────────────────┬───────────────┐\n",
       "│ code  ┆ disease                         ┆ category      │\n",
       "│ ---   ┆ ---                             ┆ ---           │\n",
       "│ str   ┆ str                             ┆ str           │\n",
       "╞═══════╪═════════════════════════════════╪═══════════════╡\n",
       "│ A001  ┆ Cholera due to Vibrio cholerae… ┆ Cholera       │\n",
       "│ A009  ┆ Cholera, unspecified            ┆ Cholera       │\n",
       "│ A0100 ┆ Typhoid fever, unspecified      ┆ Typhoid fever │\n",
       "│ A0101 ┆ Typhoid meningitis              ┆ Typhoid fever │\n",
       "│ A0102 ┆ Typhoid fever with heart invol… ┆ Typhoid fever │\n",
       "└───────┴─────────────────────────────────┴───────────────┘"
      ]
     },
     "execution_count": 86,
     "metadata": {},
     "output_type": "execute_result"
    }
   ],
   "source": [
    "icd_10.head()"
   ]
  },
  {
   "cell_type": "code",
   "execution_count": 88,
   "id": "f20678b3-57e7-49df-829f-bef977a061aa",
   "metadata": {
    "execution": {
     "iopub.execute_input": "2025-08-10T06:00:47.518179Z",
     "iopub.status.busy": "2025-08-10T06:00:47.517170Z",
     "iopub.status.idle": "2025-08-10T06:00:47.545124Z",
     "shell.execute_reply": "2025-08-10T06:00:47.544116Z",
     "shell.execute_reply.started": "2025-08-10T06:00:47.518179Z"
    },
    "tags": []
   },
   "outputs": [],
   "source": [
    "icd_10.write_csv('ICD10.csv')"
   ]
  },
  {
   "cell_type": "markdown",
   "id": "8ba7aaca-b0ac-4d44-9bd7-8549560d58a7",
   "metadata": {},
   "source": [
    "# **CPT-HCPC CODESET**"
   ]
  },
  {
   "cell_type": "code",
   "execution_count": 50,
   "id": "6021274a-8299-4314-9061-a183f140e7e1",
   "metadata": {
    "execution": {
     "iopub.execute_input": "2025-08-10T05:57:42.977288Z",
     "iopub.status.busy": "2025-08-10T05:57:42.976952Z",
     "iopub.status.idle": "2025-08-10T05:57:42.987808Z",
     "shell.execute_reply": "2025-08-10T05:57:42.987300Z",
     "shell.execute_reply.started": "2025-08-10T05:57:42.977288Z"
    },
    "tags": []
   },
   "outputs": [],
   "source": [
    "cpt_hcpc = po.read_parquet('cpt-hcpcs.parquet')"
   ]
  },
  {
   "cell_type": "code",
   "execution_count": 52,
   "id": "903cfb12-e7f9-4615-8841-028477bf869e",
   "metadata": {
    "execution": {
     "iopub.execute_input": "2025-08-10T05:57:43.450608Z",
     "iopub.status.busy": "2025-08-10T05:57:43.449643Z",
     "iopub.status.idle": "2025-08-10T05:57:43.460217Z",
     "shell.execute_reply": "2025-08-10T05:57:43.460217Z",
     "shell.execute_reply.started": "2025-08-10T05:57:43.450608Z"
    },
    "tags": []
   },
   "outputs": [
    {
     "data": {
      "text/html": [
       "<div><style>\n",
       ".dataframe > thead > tr,\n",
       ".dataframe > tbody > tr {\n",
       "  text-align: right;\n",
       "  white-space: pre-wrap;\n",
       "}\n",
       "</style>\n",
       "<small>shape: (5, 6)</small><table border=\"1\" class=\"dataframe\"><thead><tr><th>index</th><th>code</th><th>title</th><th>category</th><th>description</th><th>type</th></tr><tr><td>i64</td><td>str</td><td>str</td><td>str</td><td>str</td><td>str</td></tr></thead><tbody><tr><td>0</td><td>&quot;100&quot;</td><td>&quot;&quot;Anesthesia for Procedures on …</td><td>&quot;Anesthesiology&quot;</td><td>&quot;&quot;The provider performs anesthe…</td><td>&quot;CPT&quot;</td></tr><tr><td>1</td><td>&quot;102&quot;</td><td>&quot;&quot;Anesthesia for Procedures on …</td><td>&quot;Anesthesiology&quot;</td><td>&quot;&quot;The provider performs anesthe…</td><td>&quot;CPT&quot;</td></tr><tr><td>2</td><td>&quot;103&quot;</td><td>&quot;&quot;Anesthesia for Procedures on …</td><td>&quot;Anesthesiology&quot;</td><td>&quot;&quot;The provider performs anesthe…</td><td>&quot;CPT&quot;</td></tr><tr><td>3</td><td>&quot;104&quot;</td><td>&quot;&quot;Anesthesia for Procedures on …</td><td>&quot;Anesthesiology&quot;</td><td>&quot;&quot;The provider performs anesthe…</td><td>&quot;CPT&quot;</td></tr><tr><td>4</td><td>&quot;120&quot;</td><td>&quot;&quot;Anesthesia for Procedures on …</td><td>&quot;Anesthesiology&quot;</td><td>&quot;&quot;The provider performs anesthe…</td><td>&quot;CPT&quot;</td></tr></tbody></table></div>"
      ],
      "text/plain": [
       "shape: (5, 6)\n",
       "┌───────┬──────┬─────────────────────────────────┬────────────────┬─────────────────────────────────┬──────┐\n",
       "│ index ┆ code ┆ title                           ┆ category       ┆ description                     ┆ type │\n",
       "│ ---   ┆ ---  ┆ ---                             ┆ ---            ┆ ---                             ┆ ---  │\n",
       "│ i64   ┆ str  ┆ str                             ┆ str            ┆ str                             ┆ str  │\n",
       "╞═══════╪══════╪═════════════════════════════════╪════════════════╪═════════════════════════════════╪══════╡\n",
       "│ 0     ┆ 100  ┆ \"Anesthesia for Procedures on … ┆ Anesthesiology ┆ \"The provider performs anesthe… ┆ CPT  │\n",
       "│ 1     ┆ 102  ┆ \"Anesthesia for Procedures on … ┆ Anesthesiology ┆ \"The provider performs anesthe… ┆ CPT  │\n",
       "│ 2     ┆ 103  ┆ \"Anesthesia for Procedures on … ┆ Anesthesiology ┆ \"The provider performs anesthe… ┆ CPT  │\n",
       "│ 3     ┆ 104  ┆ \"Anesthesia for Procedures on … ┆ Anesthesiology ┆ \"The provider performs anesthe… ┆ CPT  │\n",
       "│ 4     ┆ 120  ┆ \"Anesthesia for Procedures on … ┆ Anesthesiology ┆ \"The provider performs anesthe… ┆ CPT  │\n",
       "└───────┴──────┴─────────────────────────────────┴────────────────┴─────────────────────────────────┴──────┘"
      ]
     },
     "execution_count": 52,
     "metadata": {},
     "output_type": "execute_result"
    }
   ],
   "source": [
    "cpt_hcpc.head()"
   ]
  },
  {
   "cell_type": "code",
   "execution_count": 54,
   "id": "2701cc91-a478-438c-9a30-23224e762a54",
   "metadata": {
    "execution": {
     "iopub.execute_input": "2025-08-10T05:57:44.071170Z",
     "iopub.status.busy": "2025-08-10T05:57:44.070168Z",
     "iopub.status.idle": "2025-08-10T05:57:44.075170Z",
     "shell.execute_reply": "2025-08-10T05:57:44.075170Z",
     "shell.execute_reply.started": "2025-08-10T05:57:44.071170Z"
    },
    "tags": []
   },
   "outputs": [],
   "source": [
    "cpt_codeset = cpt_hcpc.filter(cpt_hcpc['type']=='CPT')"
   ]
  },
  {
   "cell_type": "code",
   "execution_count": 56,
   "id": "5e51fbcc-f36b-4b6e-9858-c4306bf3fac8",
   "metadata": {
    "execution": {
     "iopub.execute_input": "2025-08-10T05:57:44.503064Z",
     "iopub.status.busy": "2025-08-10T05:57:44.502065Z",
     "iopub.status.idle": "2025-08-10T05:57:44.507205Z",
     "shell.execute_reply": "2025-08-10T05:57:44.506195Z",
     "shell.execute_reply.started": "2025-08-10T05:57:44.503064Z"
    },
    "tags": []
   },
   "outputs": [],
   "source": [
    "cpt_codeset = cpt_codeset[['code','title','category']]"
   ]
  },
  {
   "cell_type": "code",
   "execution_count": 58,
   "id": "c1121871-990e-4a03-9176-b9589cfde1a1",
   "metadata": {
    "execution": {
     "iopub.execute_input": "2025-08-10T05:57:44.921175Z",
     "iopub.status.busy": "2025-08-10T05:57:44.921175Z",
     "iopub.status.idle": "2025-08-10T05:57:44.925200Z",
     "shell.execute_reply": "2025-08-10T05:57:44.924693Z",
     "shell.execute_reply.started": "2025-08-10T05:57:44.921175Z"
    },
    "tags": []
   },
   "outputs": [],
   "source": [
    "cpt_codeset = cpt_codeset.rename({\n",
    "    'title' : 'disease'\n",
    "})"
   ]
  },
  {
   "cell_type": "code",
   "execution_count": 76,
   "id": "e139203d-0b91-4a87-a960-aa2255a8d759",
   "metadata": {
    "execution": {
     "iopub.execute_input": "2025-08-10T05:58:08.147880Z",
     "iopub.status.busy": "2025-08-10T05:58:08.147372Z",
     "iopub.status.idle": "2025-08-10T05:58:08.162740Z",
     "shell.execute_reply": "2025-08-10T05:58:08.161725Z",
     "shell.execute_reply.started": "2025-08-10T05:58:08.147880Z"
    },
    "tags": []
   },
   "outputs": [],
   "source": [
    "cpt_codeset.write_csv('CPT4.csv')"
   ]
  },
  {
   "cell_type": "code",
   "execution_count": 62,
   "id": "1c25ae1b-a6bd-4d98-b105-c4c2abf4d52a",
   "metadata": {
    "execution": {
     "iopub.execute_input": "2025-08-10T05:57:47.108167Z",
     "iopub.status.busy": "2025-08-10T05:57:47.107159Z",
     "iopub.status.idle": "2025-08-10T05:57:47.114326Z",
     "shell.execute_reply": "2025-08-10T05:57:47.113314Z",
     "shell.execute_reply.started": "2025-08-10T05:57:47.108167Z"
    },
    "tags": []
   },
   "outputs": [
    {
     "data": {
      "text/plain": [
       "(9659, 3)"
      ]
     },
     "execution_count": 62,
     "metadata": {},
     "output_type": "execute_result"
    }
   ],
   "source": [
    "cpt_codeset.shape"
   ]
  },
  {
   "cell_type": "code",
   "execution_count": 64,
   "id": "e44f4a60-d5ed-4241-a593-a1287c6a8bbe",
   "metadata": {
    "execution": {
     "iopub.execute_input": "2025-08-10T05:57:49.839321Z",
     "iopub.status.busy": "2025-08-10T05:57:49.839321Z",
     "iopub.status.idle": "2025-08-10T05:57:49.843216Z",
     "shell.execute_reply": "2025-08-10T05:57:49.843216Z",
     "shell.execute_reply.started": "2025-08-10T05:57:49.839321Z"
    },
    "tags": []
   },
   "outputs": [],
   "source": [
    "hcpc_codeset = cpt_hcpc.filter(cpt_hcpc['type']!='CPT')"
   ]
  },
  {
   "cell_type": "code",
   "execution_count": 66,
   "id": "ea3ff705-6d24-4fae-80bf-030e38b5d9d0",
   "metadata": {
    "execution": {
     "iopub.execute_input": "2025-08-10T05:57:50.930778Z",
     "iopub.status.busy": "2025-08-10T05:57:50.930778Z",
     "iopub.status.idle": "2025-08-10T05:57:50.943074Z",
     "shell.execute_reply": "2025-08-10T05:57:50.943074Z",
     "shell.execute_reply.started": "2025-08-10T05:57:50.930778Z"
    },
    "tags": []
   },
   "outputs": [
    {
     "data": {
      "text/html": [
       "<div><style>\n",
       ".dataframe > thead > tr,\n",
       ".dataframe > tbody > tr {\n",
       "  text-align: right;\n",
       "  white-space: pre-wrap;\n",
       "}\n",
       "</style>\n",
       "<small>shape: (6_397, 6)</small><table border=\"1\" class=\"dataframe\"><thead><tr><th>index</th><th>code</th><th>title</th><th>category</th><th>description</th><th>type</th></tr><tr><td>i64</td><td>str</td><td>str</td><td>str</td><td>str</td><td>str</td></tr></thead><tbody><tr><td>9659</td><td>&quot;A0021&quot;</td><td>&quot;&quot;Ambulance and Other Transport…</td><td>&quot;Transportation Services. medic…</td><td>&quot;&quot;Ambulance service outside sta…</td><td>&quot;HCPS&quot;</td></tr><tr><td>9660</td><td>&quot;A0080&quot;</td><td>&quot;&quot;Ambulance and Other Transport…</td><td>&quot;Transportation Services. medic…</td><td>&quot;&quot;Non-emergency transportation …</td><td>&quot;HCPS&quot;</td></tr><tr><td>9661</td><td>&quot;A0090&quot;</td><td>&quot;&quot;Ambulance and Other Transport…</td><td>&quot;Transportation Services. medic…</td><td>&quot;&quot;Non-emergency transportation …</td><td>&quot;HCPS&quot;</td></tr><tr><td>9662</td><td>&quot;A0100&quot;</td><td>&quot;&quot;Ambulance and Other Transport…</td><td>&quot;Transportation Services. medic…</td><td>&quot;&quot;Non-emergency transportation;…</td><td>&quot;HCPS&quot;</td></tr><tr><td>9663</td><td>&quot;A0110&quot;</td><td>&quot;&quot;Ambulance and Other Transport…</td><td>&quot;Transportation Services. medic…</td><td>&quot;&quot;Non-emergency transportation …</td><td>&quot;HCPS&quot;</td></tr><tr><td>&hellip;</td><td>&hellip;</td><td>&hellip;</td><td>&hellip;</td><td>&hellip;</td><td>&hellip;</td></tr><tr><td>16051</td><td>&quot;V5336&quot;</td><td>&quot;&quot;Speech-related Screenings and…</td><td>&quot;Other Services&quot;</td><td>&quot;&quot;Repair/modification of augmen…</td><td>&quot;HCPS&quot;</td></tr><tr><td>16052</td><td>&quot;V5362&quot;</td><td>&quot;&quot;Speech-related Screenings and…</td><td>&quot;Other Services&quot;</td><td>&quot;&quot;Speech screening&quot;&quot;</td><td>&quot;HCPS&quot;</td></tr><tr><td>16053</td><td>&quot;V5363&quot;</td><td>&quot;&quot;Speech-related Screenings and…</td><td>&quot;Other Services&quot;</td><td>&quot;&quot;Language screening&quot;&quot;</td><td>&quot;HCPS&quot;</td></tr><tr><td>16054</td><td>&quot;U0001&quot;</td><td>&quot;&quot;Coronavirus Diagnostic Panel.…</td><td>&quot;Other Services&quot;</td><td>&quot;&quot;Cdc 2019 novel coronavirus (2…</td><td>&quot;HCPS&quot;</td></tr><tr><td>16055</td><td>&quot;U0002&quot;</td><td>&quot;&quot;Coronavirus Diagnostic Panel …</td><td>&quot;Other Services&quot;</td><td>&quot;&quot;2019-ncov coronavirus sars-co…</td><td>&quot;HCPS&quot;</td></tr></tbody></table></div>"
      ],
      "text/plain": [
       "shape: (6_397, 6)\n",
       "┌───────┬───────┬──────────────────────────────────┬──────────────────────────┬─────────────────────────────────┬──────┐\n",
       "│ index ┆ code  ┆ title                            ┆ category                 ┆ description                     ┆ type │\n",
       "│ ---   ┆ ---   ┆ ---                              ┆ ---                      ┆ ---                             ┆ ---  │\n",
       "│ i64   ┆ str   ┆ str                              ┆ str                      ┆ str                             ┆ str  │\n",
       "╞═══════╪═══════╪══════════════════════════════════╪══════════════════════════╪═════════════════════════════════╪══════╡\n",
       "│ 9659  ┆ A0021 ┆ \"Ambulance and Other Transport…  ┆ Transportation Services. ┆ \"Ambulance service outside sta… ┆ HCPS │\n",
       "│       ┆       ┆                                  ┆ medic…                   ┆                                 ┆      │\n",
       "│ 9660  ┆ A0080 ┆ \"Ambulance and Other Transport…  ┆ Transportation Services. ┆ \"Non-emergency transportation … ┆ HCPS │\n",
       "│       ┆       ┆                                  ┆ medic…                   ┆                                 ┆      │\n",
       "│ 9661  ┆ A0090 ┆ \"Ambulance and Other Transport…  ┆ Transportation Services. ┆ \"Non-emergency transportation … ┆ HCPS │\n",
       "│       ┆       ┆                                  ┆ medic…                   ┆                                 ┆      │\n",
       "│ 9662  ┆ A0100 ┆ \"Ambulance and Other Transport…  ┆ Transportation Services. ┆ \"Non-emergency transportation;… ┆ HCPS │\n",
       "│       ┆       ┆                                  ┆ medic…                   ┆                                 ┆      │\n",
       "│ 9663  ┆ A0110 ┆ \"Ambulance and Other Transport…  ┆ Transportation Services. ┆ \"Non-emergency transportation … ┆ HCPS │\n",
       "│       ┆       ┆                                  ┆ medic…                   ┆                                 ┆      │\n",
       "│ …     ┆ …     ┆ …                                ┆ …                        ┆ …                               ┆ …    │\n",
       "│ 16051 ┆ V5336 ┆ \"Speech-related Screenings and…  ┆ Other Services           ┆ \"Repair/modification of augmen… ┆ HCPS │\n",
       "│ 16052 ┆ V5362 ┆ \"Speech-related Screenings and…  ┆ Other Services           ┆ \"Speech screening\"              ┆ HCPS │\n",
       "│ 16053 ┆ V5363 ┆ \"Speech-related Screenings and…  ┆ Other Services           ┆ \"Language screening\"            ┆ HCPS │\n",
       "│ 16054 ┆ U0001 ┆ \"Coronavirus Diagnostic Panel.…  ┆ Other Services           ┆ \"Cdc 2019 novel coronavirus (2… ┆ HCPS │\n",
       "│ 16055 ┆ U0002 ┆ \"Coronavirus Diagnostic Panel …  ┆ Other Services           ┆ \"2019-ncov coronavirus sars-co… ┆ HCPS │\n",
       "└───────┴───────┴──────────────────────────────────┴──────────────────────────┴─────────────────────────────────┴──────┘"
      ]
     },
     "execution_count": 66,
     "metadata": {},
     "output_type": "execute_result"
    }
   ],
   "source": [
    "hcpc_codeset"
   ]
  },
  {
   "cell_type": "code",
   "execution_count": 68,
   "id": "fa8f794d-fc1d-419b-9ecb-43de5f67e0f5",
   "metadata": {
    "execution": {
     "iopub.execute_input": "2025-08-10T05:57:51.632177Z",
     "iopub.status.busy": "2025-08-10T05:57:51.632177Z",
     "iopub.status.idle": "2025-08-10T05:57:51.637190Z",
     "shell.execute_reply": "2025-08-10T05:57:51.636675Z",
     "shell.execute_reply.started": "2025-08-10T05:57:51.632177Z"
    },
    "tags": []
   },
   "outputs": [],
   "source": [
    "hcpc_codeset = hcpc_codeset[['code','title','category']]"
   ]
  },
  {
   "cell_type": "code",
   "execution_count": 70,
   "id": "7976b6ce-2c7e-46a7-88a3-383175bb0612",
   "metadata": {
    "execution": {
     "iopub.execute_input": "2025-08-10T05:57:52.348374Z",
     "iopub.status.busy": "2025-08-10T05:57:52.348374Z",
     "iopub.status.idle": "2025-08-10T05:57:52.358939Z",
     "shell.execute_reply": "2025-08-10T05:57:52.357930Z",
     "shell.execute_reply.started": "2025-08-10T05:57:52.348374Z"
    },
    "tags": []
   },
   "outputs": [
    {
     "data": {
      "text/html": [
       "<div><style>\n",
       ".dataframe > thead > tr,\n",
       ".dataframe > tbody > tr {\n",
       "  text-align: right;\n",
       "  white-space: pre-wrap;\n",
       "}\n",
       "</style>\n",
       "<small>shape: (6_397, 3)</small><table border=\"1\" class=\"dataframe\"><thead><tr><th>code</th><th>title</th><th>category</th></tr><tr><td>str</td><td>str</td><td>str</td></tr></thead><tbody><tr><td>&quot;A0021&quot;</td><td>&quot;&quot;Ambulance and Other Transport…</td><td>&quot;Transportation Services. medic…</td></tr><tr><td>&quot;A0080&quot;</td><td>&quot;&quot;Ambulance and Other Transport…</td><td>&quot;Transportation Services. medic…</td></tr><tr><td>&quot;A0090&quot;</td><td>&quot;&quot;Ambulance and Other Transport…</td><td>&quot;Transportation Services. medic…</td></tr><tr><td>&quot;A0100&quot;</td><td>&quot;&quot;Ambulance and Other Transport…</td><td>&quot;Transportation Services. medic…</td></tr><tr><td>&quot;A0110&quot;</td><td>&quot;&quot;Ambulance and Other Transport…</td><td>&quot;Transportation Services. medic…</td></tr><tr><td>&hellip;</td><td>&hellip;</td><td>&hellip;</td></tr><tr><td>&quot;V5336&quot;</td><td>&quot;&quot;Speech-related Screenings and…</td><td>&quot;Other Services&quot;</td></tr><tr><td>&quot;V5362&quot;</td><td>&quot;&quot;Speech-related Screenings and…</td><td>&quot;Other Services&quot;</td></tr><tr><td>&quot;V5363&quot;</td><td>&quot;&quot;Speech-related Screenings and…</td><td>&quot;Other Services&quot;</td></tr><tr><td>&quot;U0001&quot;</td><td>&quot;&quot;Coronavirus Diagnostic Panel.…</td><td>&quot;Other Services&quot;</td></tr><tr><td>&quot;U0002&quot;</td><td>&quot;&quot;Coronavirus Diagnostic Panel …</td><td>&quot;Other Services&quot;</td></tr></tbody></table></div>"
      ],
      "text/plain": [
       "shape: (6_397, 3)\n",
       "┌───────┬─────────────────────────────────┬─────────────────────────────────┐\n",
       "│ code  ┆ title                           ┆ category                        │\n",
       "│ ---   ┆ ---                             ┆ ---                             │\n",
       "│ str   ┆ str                             ┆ str                             │\n",
       "╞═══════╪═════════════════════════════════╪═════════════════════════════════╡\n",
       "│ A0021 ┆ \"Ambulance and Other Transport… ┆ Transportation Services. medic… │\n",
       "│ A0080 ┆ \"Ambulance and Other Transport… ┆ Transportation Services. medic… │\n",
       "│ A0090 ┆ \"Ambulance and Other Transport… ┆ Transportation Services. medic… │\n",
       "│ A0100 ┆ \"Ambulance and Other Transport… ┆ Transportation Services. medic… │\n",
       "│ A0110 ┆ \"Ambulance and Other Transport… ┆ Transportation Services. medic… │\n",
       "│ …     ┆ …                               ┆ …                               │\n",
       "│ V5336 ┆ \"Speech-related Screenings and… ┆ Other Services                  │\n",
       "│ V5362 ┆ \"Speech-related Screenings and… ┆ Other Services                  │\n",
       "│ V5363 ┆ \"Speech-related Screenings and… ┆ Other Services                  │\n",
       "│ U0001 ┆ \"Coronavirus Diagnostic Panel.… ┆ Other Services                  │\n",
       "│ U0002 ┆ \"Coronavirus Diagnostic Panel … ┆ Other Services                  │\n",
       "└───────┴─────────────────────────────────┴─────────────────────────────────┘"
      ]
     },
     "execution_count": 70,
     "metadata": {},
     "output_type": "execute_result"
    }
   ],
   "source": [
    "hcpc_codeset"
   ]
  },
  {
   "cell_type": "code",
   "execution_count": 72,
   "id": "0fcc661f-51de-43f9-8f7b-8cb1e0c8adcd",
   "metadata": {
    "execution": {
     "iopub.execute_input": "2025-08-10T05:57:53.310893Z",
     "iopub.status.busy": "2025-08-10T05:57:53.309893Z",
     "iopub.status.idle": "2025-08-10T05:57:53.318464Z",
     "shell.execute_reply": "2025-08-10T05:57:53.316918Z",
     "shell.execute_reply.started": "2025-08-10T05:57:53.310893Z"
    },
    "tags": []
   },
   "outputs": [],
   "source": [
    "hcpc_codeset = hcpc_codeset.rename({\n",
    "    'title' : 'disease'\n",
    "})"
   ]
  },
  {
   "cell_type": "code",
   "execution_count": 78,
   "id": "96506972-52a8-4132-9ee4-c62b3ae3e8b5",
   "metadata": {
    "execution": {
     "iopub.execute_input": "2025-08-10T05:58:11.853379Z",
     "iopub.status.busy": "2025-08-10T05:58:11.853379Z",
     "iopub.status.idle": "2025-08-10T05:58:11.869607Z",
     "shell.execute_reply": "2025-08-10T05:58:11.867414Z",
     "shell.execute_reply.started": "2025-08-10T05:58:11.853379Z"
    },
    "tags": []
   },
   "outputs": [],
   "source": [
    "hcpc_codeset.write_csv('HCPS.csv')"
   ]
  },
  {
   "cell_type": "code",
   "execution_count": null,
   "id": "9c11b681-3cf1-4942-829f-c6efb8d8b13d",
   "metadata": {},
   "outputs": [],
   "source": []
  },
  {
   "cell_type": "code",
   "execution_count": null,
   "id": "2383c372-9d6c-406b-8f7f-af776c05f95d",
   "metadata": {},
   "outputs": [],
   "source": []
  },
  {
   "cell_type": "code",
   "execution_count": null,
   "id": "e0e90ebe-0ac6-4015-ae10-b452d08b72c1",
   "metadata": {},
   "outputs": [],
   "source": []
  }
 ],
 "metadata": {
  "kernelspec": {
   "display_name": "Python 3 (ipykernel)",
   "language": "python",
   "name": "python3"
  },
  "language_info": {
   "codemirror_mode": {
    "name": "ipython",
    "version": 3
   },
   "file_extension": ".py",
   "mimetype": "text/x-python",
   "name": "python",
   "nbconvert_exporter": "python",
   "pygments_lexer": "ipython3",
   "version": "3.11.5"
  }
 },
 "nbformat": 4,
 "nbformat_minor": 5
}
